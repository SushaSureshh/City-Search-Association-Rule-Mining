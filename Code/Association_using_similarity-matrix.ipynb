{
 "cells": [
  {
   "cell_type": "code",
   "execution_count": 1,
   "metadata": {},
   "outputs": [],
   "source": [
    "'''\n",
    "\n",
    "Author: Susha Pozhampallan Suresh\n",
    "\n",
    "This program takes as input a city that i searched and returns 0-n possible next cities searched\n",
    "\n",
    "'''\n",
    "\n",
    "# Import all libraries\n",
    "\n",
    "import pandas as pd\n",
    "import datetime\n",
    "from sklearn.metrics.pairwise import cosine_similarity\n",
    "from scipy import sparse\n",
    "from mlxtend.preprocessing import TransactionEncoder\n",
    "\n",
    "#Load data\n",
    "data = pd.read_json('./city_search.json')"
   ]
  },
  {
   "cell_type": "code",
   "execution_count": 13,
   "metadata": {},
   "outputs": [],
   "source": [
    "# List of cities from the training data\n",
    "\n",
    "data_cities = data['cities'].values.tolist()\n",
    "data_cities_list = [i[0].split(', ') for i in data_cities] \n"
   ]
  },
  {
   "cell_type": "code",
   "execution_count": 12,
   "metadata": {},
   "outputs": [],
   "source": [
    "\n",
    "\n",
    "def encode_transaction(data_item):\n",
    "    \"\"\"\n",
    "    Create the one hot encoded sparse dataframe that is machine readable\n",
    "    \"\"\"\n",
    "    transaction_encoder= TransactionEncoder()\n",
    "    data_encoded = transaction_encoder.fit(data_item).transform(data_item, sparse=True)\n",
    "    data_encoded_df = pd.SparseDataFrame(data_encoded, columns=te.columns_, default_fill_value=False)\n",
    "    data_encoded_df = data_encoded_df.astype(\"int\")\n",
    "    return data_encoded_df\n",
    "\n"
   ]
  },
  {
   "cell_type": "code",
   "execution_count": 20,
   "metadata": {},
   "outputs": [],
   "source": [
    "# Build the similarity matrix\n",
    "data_encoded = encode_transaction(data_cities_list)"
   ]
  },
  {
   "cell_type": "code",
   "execution_count": 16,
   "metadata": {},
   "outputs": [],
   "source": [
    "def calculate_similarity(data_items):\n",
    "    \"\"\"\n",
    "    Calculate the column-wise cosine similarity for a sparse\n",
    "    matrix. Return a new dataframe matrix with similarities.\n",
    "    \"\"\"\n",
    "    data_sparse = sparse.csr_matrix(data_items)\n",
    "    similarities = cosine_similarity(data_sparse.transpose())\n",
    "    sim = pd.DataFrame(data=similarities, index= data_items.columns, columns= data_items.columns)\n",
    "    return sim"
   ]
  },
  {
   "cell_type": "code",
   "execution_count": 19,
   "metadata": {},
   "outputs": [],
   "source": [
    "# Build the similarity matrix\n",
    "data_matrix = calculate_similarity(data_encoded_df)"
   ]
  },
  {
   "cell_type": "code",
   "execution_count": 21,
   "metadata": {},
   "outputs": [
    {
     "data": {
      "text/plain": [
       "Santa Ana CA     0.441794\n",
       "Riverside CA     0.344676\n",
       "Long Beach CA    0.330319\n",
       "Name: Anaheim CA, dtype: float64"
      ]
     },
     "execution_count": 21,
     "metadata": {},
     "output_type": "execute_result"
    }
   ],
   "source": [
    "# Enter the city to me searched and number of cities to be returned\n",
    "city = 'Anaheim CA' # can be any city\n",
    "n = 3 # can be any number \n",
    "\n",
    "# Predict the next city to be searched\n",
    "data_matrix[city][(data_matrix[city] > 0) & (data_matrix[city] < 1)].sort_values(ascending=False).iloc[:n]"
   ]
  },
  {
   "cell_type": "code",
   "execution_count": null,
   "metadata": {},
   "outputs": [],
   "source": []
  }
 ],
 "metadata": {
  "kernelspec": {
   "display_name": "Python 3",
   "language": "python",
   "name": "python3"
  },
  "language_info": {
   "codemirror_mode": {
    "name": "ipython",
    "version": 3
   },
   "file_extension": ".py",
   "mimetype": "text/x-python",
   "name": "python",
   "nbconvert_exporter": "python",
   "pygments_lexer": "ipython3",
   "version": "3.7.3"
  }
 },
 "nbformat": 4,
 "nbformat_minor": 2
}
